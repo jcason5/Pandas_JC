{
 "cells": [
  {
   "cell_type": "markdown",
   "id": "e266950b",
   "metadata": {},
   "source": [
    "### We're going to use a new dataset here, to demonstrate how to deal with larger datasets. This is a subset of the of 311 service requests from [NYC Open Data](https://nycopendata.socrata.com/Social-Services/311-Service-Requests-from-2010-to-Present/erm2-nwe9). \n",
    "Work in a group whom you did not worked before and submit the work before Next class\n",
    "- Rename the notebook Practice_ClassNB_Pandas_XX (your initial)\n",
    "- Indivijual submission "
   ]
  },
  {
   "cell_type": "markdown",
   "id": "2cc29949",
   "metadata": {},
   "source": [
    "#### Import pandas, numpy"
   ]
  },
  {
   "cell_type": "code",
   "execution_count": null,
   "id": "7ad62f84",
   "metadata": {},
   "outputs": [],
   "source": []
  },
  {
   "cell_type": "markdown",
   "id": "2146556e",
   "metadata": {},
   "source": [
    "### 1. Load the data using read_csv and give it a name complains"
   ]
  },
  {
   "cell_type": "markdown",
   "id": "7d6e8b33",
   "metadata": {},
   "source": [
    "Depending on your pandas version, you might see an error like \"DtypeWarning: Columns (8) have mixed types\". This means that it's encountered a problem reading in our data. In this case it almost certainly means that it has columns where some of the entries are strings and some are integers.\n",
    "#### pd.read_csv('______________.csv',`dtype='unicode'`)"
   ]
  },
  {
   "cell_type": "code",
   "execution_count": null,
   "id": "278e674b",
   "metadata": {},
   "outputs": [],
   "source": []
  },
  {
   "cell_type": "code",
   "execution_count": null,
   "id": "02404d56",
   "metadata": {},
   "outputs": [],
   "source": []
  },
  {
   "cell_type": "markdown",
   "id": "0d51cdf9",
   "metadata": {},
   "source": [
    "### 2. What's even in it? (the summary)\n"
   ]
  },
  {
   "cell_type": "code",
   "execution_count": null,
   "id": "fb2a7605",
   "metadata": {},
   "outputs": [],
   "source": []
  },
  {
   "cell_type": "code",
   "execution_count": null,
   "id": "143afebf",
   "metadata": {},
   "outputs": [],
   "source": []
  },
  {
   "cell_type": "markdown",
   "id": "6a327e7b",
   "metadata": {},
   "source": [
    "### spaces in column names are replaced with ‘_’\n",
    "complaints.columns =[column.replace(\" \", \"_\") \n",
    "                     for column in complaints.columns]"
   ]
  },
  {
   "cell_type": "code",
   "execution_count": null,
   "id": "fa1bac92",
   "metadata": {},
   "outputs": [],
   "source": []
  },
  {
   "cell_type": "code",
   "execution_count": null,
   "id": "ab72c888",
   "metadata": {},
   "outputs": [],
   "source": []
  },
  {
   "cell_type": "markdown",
   "id": "11b85e04",
   "metadata": {},
   "source": [
    "### 3. Which month and year the complains received?\n"
   ]
  },
  {
   "cell_type": "code",
   "execution_count": null,
   "id": "9d422479",
   "metadata": {},
   "outputs": [],
   "source": []
  },
  {
   "cell_type": "code",
   "execution_count": null,
   "id": "33109a22",
   "metadata": {},
   "outputs": [],
   "source": []
  },
  {
   "cell_type": "markdown",
   "id": "09eb4d20",
   "metadata": {},
   "source": [
    "### 4. Drop the columns which you are not going to use for any analysis/ not bringing any meaningful informations/ most of the entries are null (Find out 5 and explain why you selected that)"
   ]
  },
  {
   "cell_type": "code",
   "execution_count": null,
   "id": "e34f714b",
   "metadata": {},
   "outputs": [],
   "source": []
  },
  {
   "cell_type": "code",
   "execution_count": null,
   "id": "9f34b12b",
   "metadata": {},
   "outputs": [],
   "source": []
  },
  {
   "cell_type": "markdown",
   "id": "8f03c7ac",
   "metadata": {},
   "source": [
    "### 5. Is there any missing value in the dataset? Display the list.\n",
    "Impute the missing values in Street_Name, Address_Type, and City "
   ]
  },
  {
   "cell_type": "code",
   "execution_count": null,
   "id": "793dcae5",
   "metadata": {},
   "outputs": [],
   "source": []
  },
  {
   "cell_type": "code",
   "execution_count": null,
   "id": "efcc207c",
   "metadata": {},
   "outputs": [],
   "source": []
  },
  {
   "cell_type": "markdown",
   "id": "8788539e",
   "metadata": {},
   "source": [
    "### 6. What are the top 5 `complains` received? Show the result graphically using bar plot."
   ]
  },
  {
   "cell_type": "code",
   "execution_count": null,
   "id": "a62f5656",
   "metadata": {},
   "outputs": [],
   "source": []
  },
  {
   "cell_type": "code",
   "execution_count": null,
   "id": "8d0fdd32",
   "metadata": {},
   "outputs": [],
   "source": []
  },
  {
   "cell_type": "markdown",
   "id": "890fbcc6",
   "metadata": {},
   "source": [
    "### 7. What's the most common `Borough` the complain came? Display top 5 most and plot them out"
   ]
  },
  {
   "cell_type": "code",
   "execution_count": null,
   "id": "76006b20",
   "metadata": {},
   "outputs": [],
   "source": []
  },
  {
   "cell_type": "markdown",
   "id": "b720399e",
   "metadata": {},
   "source": [
    "### 8. Which agency received the most complain and which one least?"
   ]
  },
  {
   "cell_type": "code",
   "execution_count": null,
   "id": "dcae8369",
   "metadata": {},
   "outputs": [],
   "source": []
  },
  {
   "cell_type": "markdown",
   "id": "e7de9245",
   "metadata": {},
   "source": [
    "## 9. Investigate the data set and look for meaningful information for two more questions (Indivijual/ discuss with partner)\n",
    "We will discuss the new findings in Tueaday's class"
   ]
  },
  {
   "cell_type": "code",
   "execution_count": null,
   "id": "f24f5790",
   "metadata": {},
   "outputs": [],
   "source": []
  },
  {
   "cell_type": "code",
   "execution_count": null,
   "id": "0c9be7dc",
   "metadata": {},
   "outputs": [],
   "source": []
  },
  {
   "cell_type": "markdown",
   "id": "d5077e20",
   "metadata": {},
   "source": [
    "### 10. Select illegal Parking complains at Queens Borough and save it to new_complaint. How many entries are there?\n",
    "You can use `query`/iloc"
   ]
  },
  {
   "cell_type": "code",
   "execution_count": null,
   "id": "a63c768e",
   "metadata": {},
   "outputs": [],
   "source": []
  },
  {
   "cell_type": "code",
   "execution_count": null,
   "id": "e8cfb1ab",
   "metadata": {},
   "outputs": [],
   "source": []
  },
  {
   "cell_type": "markdown",
   "id": "65793089",
   "metadata": {},
   "source": [
    "### 11. Filter 3 columns `Complaint_Type, Created_Date,Descriptor` from the new_complaint and save it as a CSV file named **Complains at Queens**."
   ]
  },
  {
   "cell_type": "code",
   "execution_count": null,
   "id": "f4587d7e",
   "metadata": {},
   "outputs": [],
   "source": []
  },
  {
   "cell_type": "code",
   "execution_count": null,
   "id": "23639c4a",
   "metadata": {},
   "outputs": [],
   "source": []
  },
  {
   "cell_type": "code",
   "execution_count": null,
   "id": "17af8a74",
   "metadata": {},
   "outputs": [],
   "source": []
  },
  {
   "cell_type": "markdown",
   "id": "b042f23a",
   "metadata": {},
   "source": [
    "### 12. Load it back to verify the data"
   ]
  },
  {
   "cell_type": "code",
   "execution_count": null,
   "id": "8e1f7499",
   "metadata": {},
   "outputs": [],
   "source": []
  },
  {
   "cell_type": "code",
   "execution_count": null,
   "id": "18743ec3",
   "metadata": {},
   "outputs": [],
   "source": []
  },
  {
   "cell_type": "code",
   "execution_count": null,
   "id": "7078733c",
   "metadata": {},
   "outputs": [],
   "source": []
  }
 ],
 "metadata": {
  "kernelspec": {
   "display_name": "Python 3 (ipykernel)",
   "language": "python",
   "name": "python3"
  },
  "language_info": {
   "codemirror_mode": {
    "name": "ipython",
    "version": 3
   },
   "file_extension": ".py",
   "mimetype": "text/x-python",
   "name": "python",
   "nbconvert_exporter": "python",
   "pygments_lexer": "ipython3",
   "version": "3.9.13"
  }
 },
 "nbformat": 4,
 "nbformat_minor": 5
}
