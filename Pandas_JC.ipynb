{
 "cells": [
  {
   "cell_type": "markdown",
   "id": "e266950b",
   "metadata": {},
   "source": [
    "### We're going to use a new dataset here, to demonstrate how to deal with larger datasets. This is a subset of the of 311 service requests from [NYC Open Data](https://nycopendata.socrata.com/Social-Services/311-Service-Requests-from-2010-to-Present/erm2-nwe9). \n",
    "Work in a group whom you did not worked before and submit the work before Next class\n",
    "- Rename the notebook Practice_ClassNB_Pandas_XX (your initial)\n",
    "- Indivijual submission "
   ]
  },
  {
   "cell_type": "markdown",
   "id": "2cc29949",
   "metadata": {},
   "source": [
    "#### Import pandas, numpy"
   ]
  },
  {
   "cell_type": "code",
   "execution_count": 1,
   "id": "7ad62f84",
   "metadata": {},
   "outputs": [],
   "source": [
    "import pandas as pd\n",
    "import numpy as np"
   ]
  },
  {
   "cell_type": "markdown",
   "id": "2146556e",
   "metadata": {},
   "source": [
    "### 1. Load the data using read_csv and give it a name complains"
   ]
  },
  {
   "cell_type": "markdown",
   "id": "7d6e8b33",
   "metadata": {},
   "source": [
    "Depending on your pandas version, you might see an error like \"DtypeWarning: Columns (8) have mixed types\". This means that it's encountered a problem reading in our data. In this case it almost certainly means that it has columns where some of the entries are strings and some are integers.\n",
    "#### pd.read_csv('______________.csv',`dtype='unicode'`)"
   ]
  },
  {
   "cell_type": "code",
   "execution_count": 2,
   "id": "278e674b",
   "metadata": {},
   "outputs": [],
   "source": [
    "complains=pd.read_csv('311-service-requests.csv',dtype='unicode')"
   ]
  },
  {
   "cell_type": "code",
   "execution_count": null,
   "id": "02404d56",
   "metadata": {},
   "outputs": [],
   "source": []
  },
  {
   "cell_type": "markdown",
   "id": "0d51cdf9",
   "metadata": {},
   "source": [
    "### 2. What's even in it? (the summary)\n"
   ]
  },
  {
   "cell_type": "code",
   "execution_count": 3,
   "id": "fb2a7605",
   "metadata": {},
   "outputs": [
    {
     "data": {
      "text/html": [
       "<div>\n",
       "<style scoped>\n",
       "    .dataframe tbody tr th:only-of-type {\n",
       "        vertical-align: middle;\n",
       "    }\n",
       "\n",
       "    .dataframe tbody tr th {\n",
       "        vertical-align: top;\n",
       "    }\n",
       "\n",
       "    .dataframe thead th {\n",
       "        text-align: right;\n",
       "    }\n",
       "</style>\n",
       "<table border=\"1\" class=\"dataframe\">\n",
       "  <thead>\n",
       "    <tr style=\"text-align: right;\">\n",
       "      <th></th>\n",
       "      <th>Unique Key</th>\n",
       "      <th>Created Date</th>\n",
       "      <th>Closed Date</th>\n",
       "      <th>Agency</th>\n",
       "      <th>Agency Name</th>\n",
       "      <th>Complaint Type</th>\n",
       "      <th>Descriptor</th>\n",
       "      <th>Location Type</th>\n",
       "      <th>Incident Zip</th>\n",
       "      <th>Incident Address</th>\n",
       "      <th>...</th>\n",
       "      <th>Bridge Highway Name</th>\n",
       "      <th>Bridge Highway Direction</th>\n",
       "      <th>Road Ramp</th>\n",
       "      <th>Bridge Highway Segment</th>\n",
       "      <th>Garage Lot Name</th>\n",
       "      <th>Ferry Direction</th>\n",
       "      <th>Ferry Terminal Name</th>\n",
       "      <th>Latitude</th>\n",
       "      <th>Longitude</th>\n",
       "      <th>Location</th>\n",
       "    </tr>\n",
       "  </thead>\n",
       "  <tbody>\n",
       "    <tr>\n",
       "      <th>0</th>\n",
       "      <td>26589651</td>\n",
       "      <td>10/31/2013 02:08:41 AM</td>\n",
       "      <td>NaN</td>\n",
       "      <td>NYPD</td>\n",
       "      <td>New York City Police Department</td>\n",
       "      <td>Noise - Street/Sidewalk</td>\n",
       "      <td>Loud Talking</td>\n",
       "      <td>Street/Sidewalk</td>\n",
       "      <td>11432</td>\n",
       "      <td>90-03 169 STREET</td>\n",
       "      <td>...</td>\n",
       "      <td>NaN</td>\n",
       "      <td>NaN</td>\n",
       "      <td>NaN</td>\n",
       "      <td>NaN</td>\n",
       "      <td>NaN</td>\n",
       "      <td>NaN</td>\n",
       "      <td>NaN</td>\n",
       "      <td>40.70827532593202</td>\n",
       "      <td>-73.79160395779721</td>\n",
       "      <td>(40.70827532593202, -73.79160395779721)</td>\n",
       "    </tr>\n",
       "    <tr>\n",
       "      <th>1</th>\n",
       "      <td>26593698</td>\n",
       "      <td>10/31/2013 02:01:04 AM</td>\n",
       "      <td>NaN</td>\n",
       "      <td>NYPD</td>\n",
       "      <td>New York City Police Department</td>\n",
       "      <td>Illegal Parking</td>\n",
       "      <td>Commercial Overnight Parking</td>\n",
       "      <td>Street/Sidewalk</td>\n",
       "      <td>11378</td>\n",
       "      <td>58 AVENUE</td>\n",
       "      <td>...</td>\n",
       "      <td>NaN</td>\n",
       "      <td>NaN</td>\n",
       "      <td>NaN</td>\n",
       "      <td>NaN</td>\n",
       "      <td>NaN</td>\n",
       "      <td>NaN</td>\n",
       "      <td>NaN</td>\n",
       "      <td>40.721040535628305</td>\n",
       "      <td>-73.90945306791765</td>\n",
       "      <td>(40.721040535628305, -73.90945306791765)</td>\n",
       "    </tr>\n",
       "    <tr>\n",
       "      <th>2</th>\n",
       "      <td>26594139</td>\n",
       "      <td>10/31/2013 02:00:24 AM</td>\n",
       "      <td>10/31/2013 02:40:32 AM</td>\n",
       "      <td>NYPD</td>\n",
       "      <td>New York City Police Department</td>\n",
       "      <td>Noise - Commercial</td>\n",
       "      <td>Loud Music/Party</td>\n",
       "      <td>Club/Bar/Restaurant</td>\n",
       "      <td>10032</td>\n",
       "      <td>4060 BROADWAY</td>\n",
       "      <td>...</td>\n",
       "      <td>NaN</td>\n",
       "      <td>NaN</td>\n",
       "      <td>NaN</td>\n",
       "      <td>NaN</td>\n",
       "      <td>NaN</td>\n",
       "      <td>NaN</td>\n",
       "      <td>NaN</td>\n",
       "      <td>40.84332975466513</td>\n",
       "      <td>-73.93914371913482</td>\n",
       "      <td>(40.84332975466513, -73.93914371913482)</td>\n",
       "    </tr>\n",
       "    <tr>\n",
       "      <th>3</th>\n",
       "      <td>26595721</td>\n",
       "      <td>10/31/2013 01:56:23 AM</td>\n",
       "      <td>10/31/2013 02:21:48 AM</td>\n",
       "      <td>NYPD</td>\n",
       "      <td>New York City Police Department</td>\n",
       "      <td>Noise - Vehicle</td>\n",
       "      <td>Car/Truck Horn</td>\n",
       "      <td>Street/Sidewalk</td>\n",
       "      <td>10023</td>\n",
       "      <td>WEST 72 STREET</td>\n",
       "      <td>...</td>\n",
       "      <td>NaN</td>\n",
       "      <td>NaN</td>\n",
       "      <td>NaN</td>\n",
       "      <td>NaN</td>\n",
       "      <td>NaN</td>\n",
       "      <td>NaN</td>\n",
       "      <td>NaN</td>\n",
       "      <td>40.7780087446372</td>\n",
       "      <td>-73.98021349023975</td>\n",
       "      <td>(40.7780087446372, -73.98021349023975)</td>\n",
       "    </tr>\n",
       "    <tr>\n",
       "      <th>4</th>\n",
       "      <td>26590930</td>\n",
       "      <td>10/31/2013 01:53:44 AM</td>\n",
       "      <td>NaN</td>\n",
       "      <td>DOHMH</td>\n",
       "      <td>Department of Health and Mental Hygiene</td>\n",
       "      <td>Rodent</td>\n",
       "      <td>Condition Attracting Rodents</td>\n",
       "      <td>Vacant Lot</td>\n",
       "      <td>10027</td>\n",
       "      <td>WEST 124 STREET</td>\n",
       "      <td>...</td>\n",
       "      <td>NaN</td>\n",
       "      <td>NaN</td>\n",
       "      <td>NaN</td>\n",
       "      <td>NaN</td>\n",
       "      <td>NaN</td>\n",
       "      <td>NaN</td>\n",
       "      <td>NaN</td>\n",
       "      <td>40.80769092704951</td>\n",
       "      <td>-73.94738703491433</td>\n",
       "      <td>(40.80769092704951, -73.94738703491433)</td>\n",
       "    </tr>\n",
       "  </tbody>\n",
       "</table>\n",
       "<p>5 rows × 52 columns</p>\n",
       "</div>"
      ],
      "text/plain": [
       "  Unique Key            Created Date             Closed Date Agency  \\\n",
       "0   26589651  10/31/2013 02:08:41 AM                     NaN   NYPD   \n",
       "1   26593698  10/31/2013 02:01:04 AM                     NaN   NYPD   \n",
       "2   26594139  10/31/2013 02:00:24 AM  10/31/2013 02:40:32 AM   NYPD   \n",
       "3   26595721  10/31/2013 01:56:23 AM  10/31/2013 02:21:48 AM   NYPD   \n",
       "4   26590930  10/31/2013 01:53:44 AM                     NaN  DOHMH   \n",
       "\n",
       "                               Agency Name           Complaint Type  \\\n",
       "0          New York City Police Department  Noise - Street/Sidewalk   \n",
       "1          New York City Police Department          Illegal Parking   \n",
       "2          New York City Police Department       Noise - Commercial   \n",
       "3          New York City Police Department          Noise - Vehicle   \n",
       "4  Department of Health and Mental Hygiene                   Rodent   \n",
       "\n",
       "                     Descriptor        Location Type Incident Zip  \\\n",
       "0                  Loud Talking      Street/Sidewalk        11432   \n",
       "1  Commercial Overnight Parking      Street/Sidewalk        11378   \n",
       "2              Loud Music/Party  Club/Bar/Restaurant        10032   \n",
       "3                Car/Truck Horn      Street/Sidewalk        10023   \n",
       "4  Condition Attracting Rodents           Vacant Lot        10027   \n",
       "\n",
       "   Incident Address  ... Bridge Highway Name Bridge Highway Direction  \\\n",
       "0  90-03 169 STREET  ...                 NaN                      NaN   \n",
       "1         58 AVENUE  ...                 NaN                      NaN   \n",
       "2     4060 BROADWAY  ...                 NaN                      NaN   \n",
       "3    WEST 72 STREET  ...                 NaN                      NaN   \n",
       "4   WEST 124 STREET  ...                 NaN                      NaN   \n",
       "\n",
       "  Road Ramp Bridge Highway Segment Garage Lot Name Ferry Direction  \\\n",
       "0       NaN                    NaN             NaN             NaN   \n",
       "1       NaN                    NaN             NaN             NaN   \n",
       "2       NaN                    NaN             NaN             NaN   \n",
       "3       NaN                    NaN             NaN             NaN   \n",
       "4       NaN                    NaN             NaN             NaN   \n",
       "\n",
       "  Ferry Terminal Name            Latitude           Longitude  \\\n",
       "0                 NaN   40.70827532593202  -73.79160395779721   \n",
       "1                 NaN  40.721040535628305  -73.90945306791765   \n",
       "2                 NaN   40.84332975466513  -73.93914371913482   \n",
       "3                 NaN    40.7780087446372  -73.98021349023975   \n",
       "4                 NaN   40.80769092704951  -73.94738703491433   \n",
       "\n",
       "                                   Location  \n",
       "0   (40.70827532593202, -73.79160395779721)  \n",
       "1  (40.721040535628305, -73.90945306791765)  \n",
       "2   (40.84332975466513, -73.93914371913482)  \n",
       "3    (40.7780087446372, -73.98021349023975)  \n",
       "4   (40.80769092704951, -73.94738703491433)  \n",
       "\n",
       "[5 rows x 52 columns]"
      ]
     },
     "execution_count": 3,
     "metadata": {},
     "output_type": "execute_result"
    }
   ],
   "source": [
    "#Head shows the first 5 rows of the data frame\n",
    "complains.head()"
   ]
  },
  {
   "cell_type": "code",
   "execution_count": 4,
   "id": "143afebf",
   "metadata": {},
   "outputs": [
    {
     "name": "stdout",
     "output_type": "stream",
     "text": [
      "<class 'pandas.core.frame.DataFrame'>\n",
      "RangeIndex: 111069 entries, 0 to 111068\n",
      "Data columns (total 52 columns):\n",
      " #   Column                          Non-Null Count   Dtype \n",
      "---  ------                          --------------   ----- \n",
      " 0   Unique Key                      111069 non-null  object\n",
      " 1   Created Date                    111069 non-null  object\n",
      " 2   Closed Date                     60270 non-null   object\n",
      " 3   Agency                          111069 non-null  object\n",
      " 4   Agency Name                     111069 non-null  object\n",
      " 5   Complaint Type                  111069 non-null  object\n",
      " 6   Descriptor                      110613 non-null  object\n",
      " 7   Location Type                   79022 non-null   object\n",
      " 8   Incident Zip                    98807 non-null   object\n",
      " 9   Incident Address                84441 non-null   object\n",
      " 10  Street Name                     84432 non-null   object\n",
      " 11  Cross Street 1                  84728 non-null   object\n",
      " 12  Cross Street 2                  84005 non-null   object\n",
      " 13  Intersection Street 1           19364 non-null   object\n",
      " 14  Intersection Street 2           19366 non-null   object\n",
      " 15  Address Type                    102247 non-null  object\n",
      " 16  City                            98854 non-null   object\n",
      " 17  Landmark                        95 non-null      object\n",
      " 18  Facility Type                   19104 non-null   object\n",
      " 19  Status                          111069 non-null  object\n",
      " 20  Due Date                        39239 non-null   object\n",
      " 21  Resolution Action Updated Date  96507 non-null   object\n",
      " 22  Community Board                 111069 non-null  object\n",
      " 23  Borough                         111069 non-null  object\n",
      " 24  X Coordinate (State Plane)      98143 non-null   object\n",
      " 25  Y Coordinate (State Plane)      98143 non-null   object\n",
      " 26  Park Facility Name              111069 non-null  object\n",
      " 27  Park Borough                    111069 non-null  object\n",
      " 28  School Name                     111069 non-null  object\n",
      " 29  School Number                   111048 non-null  object\n",
      " 30  School Region                   110524 non-null  object\n",
      " 31  School Code                     110524 non-null  object\n",
      " 32  School Phone Number             111069 non-null  object\n",
      " 33  School Address                  111069 non-null  object\n",
      " 34  School City                     111069 non-null  object\n",
      " 35  School State                    111069 non-null  object\n",
      " 36  School Zip                      111069 non-null  object\n",
      " 37  School Not Found                38984 non-null   object\n",
      " 38  School or Citywide Complaint    0 non-null       object\n",
      " 39  Vehicle Type                    99 non-null      object\n",
      " 40  Taxi Company Borough            117 non-null     object\n",
      " 41  Taxi Pick Up Location           1059 non-null    object\n",
      " 42  Bridge Highway Name             185 non-null     object\n",
      " 43  Bridge Highway Direction        185 non-null     object\n",
      " 44  Road Ramp                       180 non-null     object\n",
      " 45  Bridge Highway Segment          219 non-null     object\n",
      " 46  Garage Lot Name                 49 non-null      object\n",
      " 47  Ferry Direction                 24 non-null      object\n",
      " 48  Ferry Terminal Name             70 non-null      object\n",
      " 49  Latitude                        98143 non-null   object\n",
      " 50  Longitude                       98143 non-null   object\n",
      " 51  Location                        98143 non-null   object\n",
      "dtypes: object(52)\n",
      "memory usage: 44.1+ MB\n"
     ]
    }
   ],
   "source": [
    "#shows all columns and there data set with number if null entries\n",
    "complains.info()"
   ]
  },
  {
   "cell_type": "code",
   "execution_count": 5,
   "id": "8a929160",
   "metadata": {},
   "outputs": [
    {
     "data": {
      "text/html": [
       "<div>\n",
       "<style scoped>\n",
       "    .dataframe tbody tr th:only-of-type {\n",
       "        vertical-align: middle;\n",
       "    }\n",
       "\n",
       "    .dataframe tbody tr th {\n",
       "        vertical-align: top;\n",
       "    }\n",
       "\n",
       "    .dataframe thead th {\n",
       "        text-align: right;\n",
       "    }\n",
       "</style>\n",
       "<table border=\"1\" class=\"dataframe\">\n",
       "  <thead>\n",
       "    <tr style=\"text-align: right;\">\n",
       "      <th></th>\n",
       "      <th>Unique Key</th>\n",
       "      <th>Created Date</th>\n",
       "      <th>Closed Date</th>\n",
       "      <th>Agency</th>\n",
       "      <th>Agency Name</th>\n",
       "      <th>Complaint Type</th>\n",
       "      <th>Descriptor</th>\n",
       "      <th>Location Type</th>\n",
       "      <th>Incident Zip</th>\n",
       "      <th>Incident Address</th>\n",
       "      <th>...</th>\n",
       "      <th>Bridge Highway Name</th>\n",
       "      <th>Bridge Highway Direction</th>\n",
       "      <th>Road Ramp</th>\n",
       "      <th>Bridge Highway Segment</th>\n",
       "      <th>Garage Lot Name</th>\n",
       "      <th>Ferry Direction</th>\n",
       "      <th>Ferry Terminal Name</th>\n",
       "      <th>Latitude</th>\n",
       "      <th>Longitude</th>\n",
       "      <th>Location</th>\n",
       "    </tr>\n",
       "  </thead>\n",
       "  <tbody>\n",
       "    <tr>\n",
       "      <th>111064</th>\n",
       "      <td>26426013</td>\n",
       "      <td>10/04/2013 12:01:13 AM</td>\n",
       "      <td>10/07/2013 04:07:16 PM</td>\n",
       "      <td>DPR</td>\n",
       "      <td>Department of Parks and Recreation</td>\n",
       "      <td>Maintenance or Facility</td>\n",
       "      <td>Structure - Outdoors</td>\n",
       "      <td>Park</td>\n",
       "      <td>11213</td>\n",
       "      <td>NaN</td>\n",
       "      <td>...</td>\n",
       "      <td>NaN</td>\n",
       "      <td>NaN</td>\n",
       "      <td>NaN</td>\n",
       "      <td>NaN</td>\n",
       "      <td>NaN</td>\n",
       "      <td>NaN</td>\n",
       "      <td>NaN</td>\n",
       "      <td>NaN</td>\n",
       "      <td>NaN</td>\n",
       "      <td>NaN</td>\n",
       "    </tr>\n",
       "    <tr>\n",
       "      <th>111065</th>\n",
       "      <td>26428083</td>\n",
       "      <td>10/04/2013 12:01:05 AM</td>\n",
       "      <td>10/04/2013 02:13:50 AM</td>\n",
       "      <td>NYPD</td>\n",
       "      <td>New York City Police Department</td>\n",
       "      <td>Illegal Parking</td>\n",
       "      <td>Posted Parking Sign Violation</td>\n",
       "      <td>Street/Sidewalk</td>\n",
       "      <td>11434</td>\n",
       "      <td>NaN</td>\n",
       "      <td>...</td>\n",
       "      <td>NaN</td>\n",
       "      <td>NaN</td>\n",
       "      <td>NaN</td>\n",
       "      <td>NaN</td>\n",
       "      <td>NaN</td>\n",
       "      <td>NaN</td>\n",
       "      <td>NaN</td>\n",
       "      <td>40.656160351546845</td>\n",
       "      <td>-73.76735262738222</td>\n",
       "      <td>(40.656160351546845, -73.76735262738222)</td>\n",
       "    </tr>\n",
       "    <tr>\n",
       "      <th>111066</th>\n",
       "      <td>26428987</td>\n",
       "      <td>10/04/2013 12:00:45 AM</td>\n",
       "      <td>10/04/2013 01:25:01 AM</td>\n",
       "      <td>NYPD</td>\n",
       "      <td>New York City Police Department</td>\n",
       "      <td>Noise - Street/Sidewalk</td>\n",
       "      <td>Loud Talking</td>\n",
       "      <td>Street/Sidewalk</td>\n",
       "      <td>10016</td>\n",
       "      <td>344 EAST 28 STREET</td>\n",
       "      <td>...</td>\n",
       "      <td>NaN</td>\n",
       "      <td>NaN</td>\n",
       "      <td>NaN</td>\n",
       "      <td>NaN</td>\n",
       "      <td>NaN</td>\n",
       "      <td>NaN</td>\n",
       "      <td>NaN</td>\n",
       "      <td>40.740295354643706</td>\n",
       "      <td>-73.97695165980414</td>\n",
       "      <td>(40.740295354643706, -73.97695165980414)</td>\n",
       "    </tr>\n",
       "    <tr>\n",
       "      <th>111067</th>\n",
       "      <td>26426115</td>\n",
       "      <td>10/04/2013 12:00:28 AM</td>\n",
       "      <td>10/04/2013 04:17:32 AM</td>\n",
       "      <td>NYPD</td>\n",
       "      <td>New York City Police Department</td>\n",
       "      <td>Noise - Commercial</td>\n",
       "      <td>Loud Talking</td>\n",
       "      <td>Club/Bar/Restaurant</td>\n",
       "      <td>11226</td>\n",
       "      <td>1233 FLATBUSH AVENUE</td>\n",
       "      <td>...</td>\n",
       "      <td>NaN</td>\n",
       "      <td>NaN</td>\n",
       "      <td>NaN</td>\n",
       "      <td>NaN</td>\n",
       "      <td>NaN</td>\n",
       "      <td>NaN</td>\n",
       "      <td>NaN</td>\n",
       "      <td>40.64018174662485</td>\n",
       "      <td>-73.95530566958138</td>\n",
       "      <td>(40.64018174662485, -73.95530566958138)</td>\n",
       "    </tr>\n",
       "    <tr>\n",
       "      <th>111068</th>\n",
       "      <td>26428033</td>\n",
       "      <td>10/04/2013 12:00:10 AM</td>\n",
       "      <td>10/04/2013 01:20:52 AM</td>\n",
       "      <td>NYPD</td>\n",
       "      <td>New York City Police Department</td>\n",
       "      <td>Blocked Driveway</td>\n",
       "      <td>Partial Access</td>\n",
       "      <td>Street/Sidewalk</td>\n",
       "      <td>11236</td>\n",
       "      <td>1259 EAST 94 STREET</td>\n",
       "      <td>...</td>\n",
       "      <td>NaN</td>\n",
       "      <td>NaN</td>\n",
       "      <td>NaN</td>\n",
       "      <td>NaN</td>\n",
       "      <td>NaN</td>\n",
       "      <td>NaN</td>\n",
       "      <td>NaN</td>\n",
       "      <td>40.640024057399216</td>\n",
       "      <td>-73.90071711703163</td>\n",
       "      <td>(40.640024057399216, -73.90071711703163)</td>\n",
       "    </tr>\n",
       "  </tbody>\n",
       "</table>\n",
       "<p>5 rows × 52 columns</p>\n",
       "</div>"
      ],
      "text/plain": [
       "       Unique Key            Created Date             Closed Date Agency  \\\n",
       "111064   26426013  10/04/2013 12:01:13 AM  10/07/2013 04:07:16 PM    DPR   \n",
       "111065   26428083  10/04/2013 12:01:05 AM  10/04/2013 02:13:50 AM   NYPD   \n",
       "111066   26428987  10/04/2013 12:00:45 AM  10/04/2013 01:25:01 AM   NYPD   \n",
       "111067   26426115  10/04/2013 12:00:28 AM  10/04/2013 04:17:32 AM   NYPD   \n",
       "111068   26428033  10/04/2013 12:00:10 AM  10/04/2013 01:20:52 AM   NYPD   \n",
       "\n",
       "                               Agency Name           Complaint Type  \\\n",
       "111064  Department of Parks and Recreation  Maintenance or Facility   \n",
       "111065     New York City Police Department          Illegal Parking   \n",
       "111066     New York City Police Department  Noise - Street/Sidewalk   \n",
       "111067     New York City Police Department       Noise - Commercial   \n",
       "111068     New York City Police Department         Blocked Driveway   \n",
       "\n",
       "                           Descriptor        Location Type Incident Zip  \\\n",
       "111064           Structure - Outdoors                 Park        11213   \n",
       "111065  Posted Parking Sign Violation      Street/Sidewalk        11434   \n",
       "111066                   Loud Talking      Street/Sidewalk        10016   \n",
       "111067                   Loud Talking  Club/Bar/Restaurant        11226   \n",
       "111068                 Partial Access      Street/Sidewalk        11236   \n",
       "\n",
       "            Incident Address  ... Bridge Highway Name  \\\n",
       "111064                   NaN  ...                 NaN   \n",
       "111065                   NaN  ...                 NaN   \n",
       "111066    344 EAST 28 STREET  ...                 NaN   \n",
       "111067  1233 FLATBUSH AVENUE  ...                 NaN   \n",
       "111068   1259 EAST 94 STREET  ...                 NaN   \n",
       "\n",
       "       Bridge Highway Direction Road Ramp Bridge Highway Segment  \\\n",
       "111064                      NaN       NaN                    NaN   \n",
       "111065                      NaN       NaN                    NaN   \n",
       "111066                      NaN       NaN                    NaN   \n",
       "111067                      NaN       NaN                    NaN   \n",
       "111068                      NaN       NaN                    NaN   \n",
       "\n",
       "       Garage Lot Name Ferry Direction Ferry Terminal Name  \\\n",
       "111064             NaN             NaN                 NaN   \n",
       "111065             NaN             NaN                 NaN   \n",
       "111066             NaN             NaN                 NaN   \n",
       "111067             NaN             NaN                 NaN   \n",
       "111068             NaN             NaN                 NaN   \n",
       "\n",
       "                  Latitude           Longitude  \\\n",
       "111064                 NaN                 NaN   \n",
       "111065  40.656160351546845  -73.76735262738222   \n",
       "111066  40.740295354643706  -73.97695165980414   \n",
       "111067   40.64018174662485  -73.95530566958138   \n",
       "111068  40.640024057399216  -73.90071711703163   \n",
       "\n",
       "                                        Location  \n",
       "111064                                       NaN  \n",
       "111065  (40.656160351546845, -73.76735262738222)  \n",
       "111066  (40.740295354643706, -73.97695165980414)  \n",
       "111067   (40.64018174662485, -73.95530566958138)  \n",
       "111068  (40.640024057399216, -73.90071711703163)  \n",
       "\n",
       "[5 rows x 52 columns]"
      ]
     },
     "execution_count": 5,
     "metadata": {},
     "output_type": "execute_result"
    }
   ],
   "source": [
    "# shows the last 5 rows of the data set\n",
    "complains.tail()"
   ]
  },
  {
   "cell_type": "code",
   "execution_count": 6,
   "id": "b51c8e8f",
   "metadata": {},
   "outputs": [
    {
     "data": {
      "text/plain": [
       "(111069, 52)"
      ]
     },
     "execution_count": 6,
     "metadata": {},
     "output_type": "execute_result"
    }
   ],
   "source": [
    "# Shape shows the total amount of rows and columns\n",
    "complains.shape"
   ]
  },
  {
   "cell_type": "code",
   "execution_count": 7,
   "id": "f7e7ccb5",
   "metadata": {},
   "outputs": [
    {
     "data": {
      "text/plain": [
       "Index(['Unique Key', 'Created Date', 'Closed Date', 'Agency', 'Agency Name',\n",
       "       'Complaint Type', 'Descriptor', 'Location Type', 'Incident Zip',\n",
       "       'Incident Address', 'Street Name', 'Cross Street 1', 'Cross Street 2',\n",
       "       'Intersection Street 1', 'Intersection Street 2', 'Address Type',\n",
       "       'City', 'Landmark', 'Facility Type', 'Status', 'Due Date',\n",
       "       'Resolution Action Updated Date', 'Community Board', 'Borough',\n",
       "       'X Coordinate (State Plane)', 'Y Coordinate (State Plane)',\n",
       "       'Park Facility Name', 'Park Borough', 'School Name', 'School Number',\n",
       "       'School Region', 'School Code', 'School Phone Number', 'School Address',\n",
       "       'School City', 'School State', 'School Zip', 'School Not Found',\n",
       "       'School or Citywide Complaint', 'Vehicle Type', 'Taxi Company Borough',\n",
       "       'Taxi Pick Up Location', 'Bridge Highway Name',\n",
       "       'Bridge Highway Direction', 'Road Ramp', 'Bridge Highway Segment',\n",
       "       'Garage Lot Name', 'Ferry Direction', 'Ferry Terminal Name', 'Latitude',\n",
       "       'Longitude', 'Location'],\n",
       "      dtype='object')"
      ]
     },
     "execution_count": 7,
     "metadata": {},
     "output_type": "execute_result"
    }
   ],
   "source": [
    "#shows each of the column index\n",
    "complains.columns"
   ]
  },
  {
   "cell_type": "markdown",
   "id": "6a327e7b",
   "metadata": {},
   "source": [
    "### spaces in column names are replaced with ‘_’\n",
    "complaints.columns =[column.replace(\" \", \"_\") \n",
    "                     for column in complaints.columns]\n",
    "* this changes all the spaces to '_'"
   ]
  },
  {
   "cell_type": "code",
   "execution_count": 8,
   "id": "fa1bac92",
   "metadata": {},
   "outputs": [],
   "source": [
    "complains.columns =[column.replace(\" \", \"_\") for column in complains.columns]"
   ]
  },
  {
   "cell_type": "code",
   "execution_count": 9,
   "id": "ab72c888",
   "metadata": {},
   "outputs": [
    {
     "data": {
      "text/plain": [
       "Index(['Unique_Key', 'Created_Date', 'Closed_Date', 'Agency', 'Agency_Name',\n",
       "       'Complaint_Type', 'Descriptor', 'Location_Type', 'Incident_Zip',\n",
       "       'Incident_Address', 'Street_Name', 'Cross_Street_1', 'Cross_Street_2',\n",
       "       'Intersection_Street_1', 'Intersection_Street_2', 'Address_Type',\n",
       "       'City', 'Landmark', 'Facility_Type', 'Status', 'Due_Date',\n",
       "       'Resolution_Action_Updated_Date', 'Community_Board', 'Borough',\n",
       "       'X_Coordinate_(State_Plane)', 'Y_Coordinate_(State_Plane)',\n",
       "       'Park_Facility_Name', 'Park_Borough', 'School_Name', 'School_Number',\n",
       "       'School_Region', 'School_Code', 'School_Phone_Number', 'School_Address',\n",
       "       'School_City', 'School_State', 'School_Zip', 'School_Not_Found',\n",
       "       'School_or_Citywide_Complaint', 'Vehicle_Type', 'Taxi_Company_Borough',\n",
       "       'Taxi_Pick_Up_Location', 'Bridge_Highway_Name',\n",
       "       'Bridge_Highway_Direction', 'Road_Ramp', 'Bridge_Highway_Segment',\n",
       "       'Garage_Lot_Name', 'Ferry_Direction', 'Ferry_Terminal_Name', 'Latitude',\n",
       "       'Longitude', 'Location'],\n",
       "      dtype='object')"
      ]
     },
     "execution_count": 9,
     "metadata": {},
     "output_type": "execute_result"
    }
   ],
   "source": [
    "complains.columns"
   ]
  },
  {
   "cell_type": "markdown",
   "id": "11b85e04",
   "metadata": {},
   "source": [
    "### 3. Which month and year the complains received?\n"
   ]
  },
  {
   "cell_type": "code",
   "execution_count": 10,
   "id": "8df18ef0",
   "metadata": {},
   "outputs": [],
   "source": [
    "#first you make created_date to datetime so you can add the month and year\n",
    "complains['Created_Date'] = pd.to_datetime(complains['Created_Date'])"
   ]
  },
  {
   "cell_type": "code",
   "execution_count": 11,
   "id": "9d422479",
   "metadata": {},
   "outputs": [],
   "source": [
    "#this allows you to add month and year to the complains\n",
    "complains['month']=complains['Created_Date'].dt.month"
   ]
  },
  {
   "cell_type": "code",
   "execution_count": 12,
   "id": "33109a22",
   "metadata": {},
   "outputs": [],
   "source": [
    "complains['year']=complains['Created_Date'].dt.year"
   ]
  },
  {
   "cell_type": "code",
   "execution_count": 13,
   "id": "cb8c9697",
   "metadata": {},
   "outputs": [
    {
     "name": "stdout",
     "output_type": "stream",
     "text": [
      "<class 'pandas.core.frame.DataFrame'>\n",
      "RangeIndex: 111069 entries, 0 to 111068\n",
      "Data columns (total 54 columns):\n",
      " #   Column                          Non-Null Count   Dtype         \n",
      "---  ------                          --------------   -----         \n",
      " 0   Unique_Key                      111069 non-null  object        \n",
      " 1   Created_Date                    111069 non-null  datetime64[ns]\n",
      " 2   Closed_Date                     60270 non-null   object        \n",
      " 3   Agency                          111069 non-null  object        \n",
      " 4   Agency_Name                     111069 non-null  object        \n",
      " 5   Complaint_Type                  111069 non-null  object        \n",
      " 6   Descriptor                      110613 non-null  object        \n",
      " 7   Location_Type                   79022 non-null   object        \n",
      " 8   Incident_Zip                    98807 non-null   object        \n",
      " 9   Incident_Address                84441 non-null   object        \n",
      " 10  Street_Name                     84432 non-null   object        \n",
      " 11  Cross_Street_1                  84728 non-null   object        \n",
      " 12  Cross_Street_2                  84005 non-null   object        \n",
      " 13  Intersection_Street_1           19364 non-null   object        \n",
      " 14  Intersection_Street_2           19366 non-null   object        \n",
      " 15  Address_Type                    102247 non-null  object        \n",
      " 16  City                            98854 non-null   object        \n",
      " 17  Landmark                        95 non-null      object        \n",
      " 18  Facility_Type                   19104 non-null   object        \n",
      " 19  Status                          111069 non-null  object        \n",
      " 20  Due_Date                        39239 non-null   object        \n",
      " 21  Resolution_Action_Updated_Date  96507 non-null   object        \n",
      " 22  Community_Board                 111069 non-null  object        \n",
      " 23  Borough                         111069 non-null  object        \n",
      " 24  X_Coordinate_(State_Plane)      98143 non-null   object        \n",
      " 25  Y_Coordinate_(State_Plane)      98143 non-null   object        \n",
      " 26  Park_Facility_Name              111069 non-null  object        \n",
      " 27  Park_Borough                    111069 non-null  object        \n",
      " 28  School_Name                     111069 non-null  object        \n",
      " 29  School_Number                   111048 non-null  object        \n",
      " 30  School_Region                   110524 non-null  object        \n",
      " 31  School_Code                     110524 non-null  object        \n",
      " 32  School_Phone_Number             111069 non-null  object        \n",
      " 33  School_Address                  111069 non-null  object        \n",
      " 34  School_City                     111069 non-null  object        \n",
      " 35  School_State                    111069 non-null  object        \n",
      " 36  School_Zip                      111069 non-null  object        \n",
      " 37  School_Not_Found                38984 non-null   object        \n",
      " 38  School_or_Citywide_Complaint    0 non-null       object        \n",
      " 39  Vehicle_Type                    99 non-null      object        \n",
      " 40  Taxi_Company_Borough            117 non-null     object        \n",
      " 41  Taxi_Pick_Up_Location           1059 non-null    object        \n",
      " 42  Bridge_Highway_Name             185 non-null     object        \n",
      " 43  Bridge_Highway_Direction        185 non-null     object        \n",
      " 44  Road_Ramp                       180 non-null     object        \n",
      " 45  Bridge_Highway_Segment          219 non-null     object        \n",
      " 46  Garage_Lot_Name                 49 non-null      object        \n",
      " 47  Ferry_Direction                 24 non-null      object        \n",
      " 48  Ferry_Terminal_Name             70 non-null      object        \n",
      " 49  Latitude                        98143 non-null   object        \n",
      " 50  Longitude                       98143 non-null   object        \n",
      " 51  Location                        98143 non-null   object        \n",
      " 52  month                           111069 non-null  int64         \n",
      " 53  year                            111069 non-null  int64         \n",
      "dtypes: datetime64[ns](1), int64(2), object(51)\n",
      "memory usage: 45.8+ MB\n"
     ]
    }
   ],
   "source": [
    "complains.info()"
   ]
  },
  {
   "cell_type": "code",
   "execution_count": 14,
   "id": "33df75b9",
   "metadata": {},
   "outputs": [
    {
     "data": {
      "text/plain": [
       "10    111069\n",
       "Name: month, dtype: int64"
      ]
     },
     "execution_count": 14,
     "metadata": {},
     "output_type": "execute_result"
    }
   ],
   "source": [
    "#months complains were taken\n",
    "complains['month'].value_counts()"
   ]
  },
  {
   "cell_type": "code",
   "execution_count": 15,
   "id": "05fa84df",
   "metadata": {},
   "outputs": [
    {
     "data": {
      "text/plain": [
       "2013    111069\n",
       "Name: year, dtype: int64"
      ]
     },
     "execution_count": 15,
     "metadata": {},
     "output_type": "execute_result"
    }
   ],
   "source": [
    "#year complains were taken\n",
    "complains['year'].value_counts()"
   ]
  },
  {
   "cell_type": "markdown",
   "id": "2464a86e",
   "metadata": {},
   "source": [
    "The complaints are from October of 2013"
   ]
  },
  {
   "cell_type": "code",
   "execution_count": 17,
   "id": "76be914d",
   "metadata": {},
   "outputs": [
    {
     "data": {
      "text/plain": [
       "Index(['Unique_Key', 'Created_Date', 'Closed_Date', 'Agency', 'Agency_Name',\n",
       "       'Complaint_Type', 'Descriptor', 'Location_Type', 'Incident_Zip',\n",
       "       'Incident_Address', 'Street_Name', 'Cross_Street_1', 'Cross_Street_2',\n",
       "       'Intersection_Street_1', 'Intersection_Street_2', 'Address_Type',\n",
       "       'City', 'Landmark', 'Facility_Type', 'Status', 'Due_Date',\n",
       "       'Resolution_Action_Updated_Date', 'Community_Board', 'Borough',\n",
       "       'X_Coordinate_(State_Plane)', 'Y_Coordinate_(State_Plane)',\n",
       "       'Park_Facility_Name', 'Park_Borough', 'School_Name', 'School_Number',\n",
       "       'School_Region', 'School_Code', 'School_Phone_Number', 'School_Address',\n",
       "       'School_City', 'School_State', 'School_Zip', 'School_Not_Found',\n",
       "       'School_or_Citywide_Complaint', 'Vehicle_Type', 'Taxi_Company_Borough',\n",
       "       'Taxi_Pick_Up_Location', 'Bridge_Highway_Name',\n",
       "       'Bridge_Highway_Direction', 'Road_Ramp', 'Bridge_Highway_Segment',\n",
       "       'Garage_Lot_Name', 'Ferry_Direction', 'Ferry_Terminal_Name', 'Latitude',\n",
       "       'Longitude', 'Location', 'month', 'year'],\n",
       "      dtype='object')"
      ]
     },
     "execution_count": 17,
     "metadata": {},
     "output_type": "execute_result"
    }
   ],
   "source": [
    "complains.columns"
   ]
  },
  {
   "cell_type": "markdown",
   "id": "09eb4d20",
   "metadata": {},
   "source": [
    "### 4. Drop the columns which you are not going to use for any analysis/ not bringing any meaningful informations/ most of the entries are null (Find out 5 and explain why you selected that)"
   ]
  },
  {
   "cell_type": "code",
   "execution_count": 18,
   "id": "77983ad9",
   "metadata": {},
   "outputs": [],
   "source": [
    "#the drop eliminates the non useful columns\n",
    "complains.drop(['School_or_Citywide_Complaint','Longitude','Latitude', 'Landmark','Ferry_Direction'], \n",
    "        axis=1, \n",
    "        inplace=True)"
   ]
  },
  {
   "cell_type": "code",
   "execution_count": 19,
   "id": "fd4b514c",
   "metadata": {},
   "outputs": [
    {
     "name": "stdout",
     "output_type": "stream",
     "text": [
      "<class 'pandas.core.frame.DataFrame'>\n",
      "RangeIndex: 111069 entries, 0 to 111068\n",
      "Data columns (total 49 columns):\n",
      " #   Column                          Non-Null Count   Dtype         \n",
      "---  ------                          --------------   -----         \n",
      " 0   Unique_Key                      111069 non-null  object        \n",
      " 1   Created_Date                    111069 non-null  datetime64[ns]\n",
      " 2   Closed_Date                     60270 non-null   object        \n",
      " 3   Agency                          111069 non-null  object        \n",
      " 4   Agency_Name                     111069 non-null  object        \n",
      " 5   Complaint_Type                  111069 non-null  object        \n",
      " 6   Descriptor                      110613 non-null  object        \n",
      " 7   Location_Type                   79022 non-null   object        \n",
      " 8   Incident_Zip                    98807 non-null   object        \n",
      " 9   Incident_Address                84441 non-null   object        \n",
      " 10  Street_Name                     84432 non-null   object        \n",
      " 11  Cross_Street_1                  84728 non-null   object        \n",
      " 12  Cross_Street_2                  84005 non-null   object        \n",
      " 13  Intersection_Street_1           19364 non-null   object        \n",
      " 14  Intersection_Street_2           19366 non-null   object        \n",
      " 15  Address_Type                    102247 non-null  object        \n",
      " 16  City                            98854 non-null   object        \n",
      " 17  Facility_Type                   19104 non-null   object        \n",
      " 18  Status                          111069 non-null  object        \n",
      " 19  Due_Date                        39239 non-null   object        \n",
      " 20  Resolution_Action_Updated_Date  96507 non-null   object        \n",
      " 21  Community_Board                 111069 non-null  object        \n",
      " 22  Borough                         111069 non-null  object        \n",
      " 23  X_Coordinate_(State_Plane)      98143 non-null   object        \n",
      " 24  Y_Coordinate_(State_Plane)      98143 non-null   object        \n",
      " 25  Park_Facility_Name              111069 non-null  object        \n",
      " 26  Park_Borough                    111069 non-null  object        \n",
      " 27  School_Name                     111069 non-null  object        \n",
      " 28  School_Number                   111048 non-null  object        \n",
      " 29  School_Region                   110524 non-null  object        \n",
      " 30  School_Code                     110524 non-null  object        \n",
      " 31  School_Phone_Number             111069 non-null  object        \n",
      " 32  School_Address                  111069 non-null  object        \n",
      " 33  School_City                     111069 non-null  object        \n",
      " 34  School_State                    111069 non-null  object        \n",
      " 35  School_Zip                      111069 non-null  object        \n",
      " 36  School_Not_Found                38984 non-null   object        \n",
      " 37  Vehicle_Type                    99 non-null      object        \n",
      " 38  Taxi_Company_Borough            117 non-null     object        \n",
      " 39  Taxi_Pick_Up_Location           1059 non-null    object        \n",
      " 40  Bridge_Highway_Name             185 non-null     object        \n",
      " 41  Bridge_Highway_Direction        185 non-null     object        \n",
      " 42  Road_Ramp                       180 non-null     object        \n",
      " 43  Bridge_Highway_Segment          219 non-null     object        \n",
      " 44  Garage_Lot_Name                 49 non-null      object        \n",
      " 45  Ferry_Terminal_Name             70 non-null      object        \n",
      " 46  Location                        98143 non-null   object        \n",
      " 47  month                           111069 non-null  int64         \n",
      " 48  year                            111069 non-null  int64         \n",
      "dtypes: datetime64[ns](1), int64(2), object(46)\n",
      "memory usage: 41.5+ MB\n"
     ]
    }
   ],
   "source": [
    "complains.info()"
   ]
  },
  {
   "cell_type": "markdown",
   "id": "c342082a",
   "metadata": {},
   "source": [
    "The Shcool and city wide complaint has no info to support this dataset. The longitude and latitude are not needed because they are already in the location column. Landmark is unnecessiary because it is missing values and we already have other building info. Ferry direction is not needed because that info could already be found using current info and is missing many values"
   ]
  },
  {
   "cell_type": "markdown",
   "id": "8f03c7ac",
   "metadata": {},
   "source": [
    "### 5. Is there any missing value in the dataset? Display the list.\n",
    "Impute the missing values in Street_Name, Address_Type, and City "
   ]
  },
  {
   "cell_type": "code",
   "execution_count": 55,
   "id": "439ad995",
   "metadata": {},
   "outputs": [
    {
     "data": {
      "text/plain": [
       "26637"
      ]
     },
     "execution_count": 55,
     "metadata": {},
     "output_type": "execute_result"
    }
   ],
   "source": [
    "#insull returns true or false if if there is missing data and the sum gives you the amount\n",
    "complains['Street_Name'].isnull().sum()"
   ]
  },
  {
   "cell_type": "code",
   "execution_count": 27,
   "id": "6cadf7d5",
   "metadata": {},
   "outputs": [
    {
     "data": {
      "text/plain": [
       "8822"
      ]
     },
     "execution_count": 27,
     "metadata": {},
     "output_type": "execute_result"
    }
   ],
   "source": [
    "complains['Address_Type'].isnull().sum()"
   ]
  },
  {
   "cell_type": "code",
   "execution_count": 28,
   "id": "713fed07",
   "metadata": {},
   "outputs": [
    {
     "data": {
      "text/plain": [
       "12215"
      ]
     },
     "execution_count": 28,
     "metadata": {},
     "output_type": "execute_result"
    }
   ],
   "source": [
    "complains['City'].isnull().sum()"
   ]
  },
  {
   "cell_type": "code",
   "execution_count": 29,
   "id": "efcc207c",
   "metadata": {},
   "outputs": [
    {
     "data": {
      "text/plain": [
       "Unique_Key                             0\n",
       "Created_Date                           0\n",
       "Closed_Date                        50799\n",
       "Agency                                 0\n",
       "Agency_Name                            0\n",
       "Complaint_Type                         0\n",
       "Descriptor                           456\n",
       "Location_Type                      32047\n",
       "Incident_Zip                       12262\n",
       "Incident_Address                   26628\n",
       "Street_Name                        26637\n",
       "Cross_Street_1                     26341\n",
       "Cross_Street_2                     27064\n",
       "Intersection_Street_1              91705\n",
       "Intersection_Street_2              91703\n",
       "Address_Type                        8822\n",
       "City                               12215\n",
       "Facility_Type                      91965\n",
       "Status                                 0\n",
       "Due_Date                           71830\n",
       "Resolution_Action_Updated_Date     14562\n",
       "Community_Board                        0\n",
       "Borough                                0\n",
       "X_Coordinate_(State_Plane)         12926\n",
       "Y_Coordinate_(State_Plane)         12926\n",
       "Park_Facility_Name                     0\n",
       "Park_Borough                           0\n",
       "School_Name                            0\n",
       "School_Number                         21\n",
       "School_Region                        545\n",
       "School_Code                          545\n",
       "School_Phone_Number                    0\n",
       "School_Address                         0\n",
       "School_City                            0\n",
       "School_State                           0\n",
       "School_Zip                             0\n",
       "School_Not_Found                   72085\n",
       "Vehicle_Type                      110970\n",
       "Taxi_Company_Borough              110952\n",
       "Taxi_Pick_Up_Location             110010\n",
       "Bridge_Highway_Name               110884\n",
       "Bridge_Highway_Direction          110884\n",
       "Road_Ramp                         110889\n",
       "Bridge_Highway_Segment            110850\n",
       "Garage_Lot_Name                   111020\n",
       "Ferry_Terminal_Name               110999\n",
       "Location                           12926\n",
       "month                                  0\n",
       "year                                   0\n",
       "dtype: int64"
      ]
     },
     "execution_count": 29,
     "metadata": {},
     "output_type": "execute_result"
    }
   ],
   "source": [
    "complains.isnull().sum()"
   ]
  },
  {
   "cell_type": "markdown",
   "id": "8788539e",
   "metadata": {},
   "source": [
    "### 6. What are the top 5 `complains` received? Show the result graphically using bar plot."
   ]
  },
  {
   "cell_type": "code",
   "execution_count": 40,
   "id": "8d0fdd32",
   "metadata": {},
   "outputs": [
    {
     "data": {
      "text/plain": [
       "<Axes: >"
      ]
     },
     "execution_count": 40,
     "metadata": {},
     "output_type": "execute_result"
    },
    {
     "data": {
      "image/png": "[encoded data removed]",
      "text/plain": [
       "<Figure size 640x480 with 1 Axes>"
      ]
     },
     "metadata": {},
     "output_type": "display_data"
    }
   ],
   "source": [
    "complains['Complaint_Type'].value_counts().head().plot(kind='bar')"
   ]
  },
  {
   "cell_type": "code",
   "execution_count": null,
   "id": "d525446d",
   "metadata": {},
   "outputs": [],
   "source": [
    "#value counts gives the number of each complaint type and the .head returns the top five and you graph ot using .plot"
   ]
  },
  {
   "cell_type": "markdown",
   "id": "890fbcc6",
   "metadata": {},
   "source": [
    "### 7. What's the most common `Borough` the complain came? Display top 5 most and plot them out"
   ]
  },
  {
   "cell_type": "code",
   "execution_count": 42,
   "id": "76006b20",
   "metadata": {},
   "outputs": [
    {
     "data": {
      "text/plain": [
       "<Axes: ylabel='Complaint_Type'>"
      ]
     },
     "execution_count": 42,
     "metadata": {},
     "output_type": "execute_result"
    },
    {
     "data": {
      "image/png": "[encoded data removed]",
      "text/plain": [
       "<Figure size 640x480 with 1 Axes>"
      ]
     },
     "metadata": {},
     "output_type": "display_data"
    }
   ],
   "source": [
    "complains['Complaint_Type'].value_counts().head().plot(kind='pie')\n",
    "#value counts gives the number of each complaint type and the .head returns the top five and you graph ot using .plot"
   ]
  },
  {
   "cell_type": "markdown",
   "id": "b720399e",
   "metadata": {},
   "source": [
    "### 8. Which agency received the most complain and which one least?"
   ]
  },
  {
   "cell_type": "code",
   "execution_count": 45,
   "id": "dcae8369",
   "metadata": {},
   "outputs": [
    {
     "data": {
      "text/plain": [
       "Department of Housing Preservation and Development    39067\n",
       "Name: Agency_Name, dtype: int64"
      ]
     },
     "execution_count": 45,
     "metadata": {},
     "output_type": "execute_result"
    }
   ],
   "source": [
    "#use agency name to find the name of the agency and count the values to see which has the most complaints using head\n",
    "complains['Agency_Name'].value_counts().head(1)"
   ]
  },
  {
   "cell_type": "code",
   "execution_count": 46,
   "id": "04041bf2",
   "metadata": {},
   "outputs": [
    {
     "data": {
      "text/plain": [
       "School - Grace Dodge Career and Technical Education High School    1\n",
       "Name: Agency_Name, dtype: int64"
      ]
     },
     "execution_count": 46,
     "metadata": {},
     "output_type": "execute_result"
    }
   ],
   "source": [
    "# we do the sameting on this ine but use tail to get the last one\n",
    "complains['Agency_Name'].value_counts().tail(1)"
   ]
  },
  {
   "cell_type": "markdown",
   "id": "e7de9245",
   "metadata": {},
   "source": [
    "## 9. Investigate the data set and look for meaningful information for two more questions (Indivijual/ discuss with partner)\n",
    "We will discuss the new findings in Tueaday's class"
   ]
  },
  {
   "cell_type": "code",
   "execution_count": 53,
   "id": "f24f5790",
   "metadata": {},
   "outputs": [
    {
     "data": {
      "text/plain": [
       "HEAT                                                       14126\n",
       "Street Light Out                                            5396\n",
       "Property Tax Exemption Application for Owners - English     4683\n",
       "No Access                                                   3429\n",
       "Loud Music/Party                                            3166\n",
       "Name: Descriptor, dtype: int64"
      ]
     },
     "execution_count": 53,
     "metadata": {},
     "output_type": "execute_result"
    }
   ],
   "source": [
    "#Most common descriptions complaints recieved\n",
    "complains['Descriptor'].value_counts().head()"
   ]
  },
  {
   "cell_type": "code",
   "execution_count": 57,
   "id": "0c9be7dc",
   "metadata": {},
   "outputs": [
    {
     "data": {
      "text/plain": [
       "RESIDENTIAL BUILDING    39067\n",
       "Street/Sidewalk         12036\n",
       "Street                  11569\n",
       "Sidewalk                 5220\n",
       "Club/Bar/Restaurant      1865\n",
       "Name: Location_Type, dtype: int64"
      ]
     },
     "execution_count": 57,
     "metadata": {},
     "output_type": "execute_result"
    }
   ],
   "source": [
    "#This shows the most common locations of where complaint occur\n",
    "complains['Location_Type'].value_counts().head()"
   ]
  },
  {
   "cell_type": "markdown",
   "id": "d5077e20",
   "metadata": {},
   "source": [
    "### 10. Select illegal Parking complains at Queens Borough and save it to new_complaint. How many entries are there?\n",
    "You can use `query`/iloc"
   ]
  },
  {
   "cell_type": "code",
   "execution_count": 48,
   "id": "a63c768e",
   "metadata": {},
   "outputs": [],
   "source": [
    "#use query to get specific data needed. \n",
    "new_complains=complains.query('Complaint_Type == \"Illegal Parking\" & Borough== \"Queens\"')"
   ]
  },
  {
   "cell_type": "code",
   "execution_count": 50,
   "id": "e8cfb1ab",
   "metadata": {},
   "outputs": [
    {
     "data": {
      "text/plain": [
       "0"
      ]
     },
     "execution_count": 50,
     "metadata": {},
     "output_type": "execute_result"
    }
   ],
   "source": [
    "#use len to get a countof the entries\n",
    "len(new_complains)"
   ]
  },
  {
   "cell_type": "markdown",
   "id": "65793089",
   "metadata": {},
   "source": [
    "### 11. Filter 3 columns `Complaint_Type, Created_Date,Descriptor` from the new_complaint and save it as a CSV file named **Complains at Queens**."
   ]
  },
  {
   "cell_type": "code",
   "execution_count": 51,
   "id": "f4587d7e",
   "metadata": {},
   "outputs": [],
   "source": [
    "new_complains=new_complains[['Complaint_Type', 'Created_Date','Descriptor']].head()"
   ]
  },
  {
   "cell_type": "code",
   "execution_count": 52,
   "id": "23639c4a",
   "metadata": {},
   "outputs": [],
   "source": [
    "new_complains.to_csv('newdata', \n",
    "          index=False)"
   ]
  },
  {
   "cell_type": "code",
   "execution_count": null,
   "id": "17af8a74",
   "metadata": {},
   "outputs": [],
   "source": []
  },
  {
   "cell_type": "markdown",
   "id": "b042f23a",
   "metadata": {},
   "source": [
    "### 12. Load it back to verify the data"
   ]
  },
  {
   "cell_type": "code",
   "execution_count": 58,
   "id": "8e1f7499",
   "metadata": {},
   "outputs": [],
   "source": [
    "complains.to_csv('311-service-requests.csv', \n",
    "          index=False)"
   ]
  },
  {
   "cell_type": "code",
   "execution_count": 59,
   "id": "18743ec3",
   "metadata": {},
   "outputs": [
    {
     "name": "stderr",
     "output_type": "stream",
     "text": [
      "/var/folders/p4/4tlj1j3x5ysgr3r9y3b5tp2w0000gn/T/ipykernel_84157/2840286520.py:1: DtypeWarning: Columns (8) have mixed types. Specify dtype option on import or set low_memory=False.\n",
      "  pd.read_csv('311-service-requests.csv',\n"
     ]
    },
    {
     "data": {
      "text/html": [
       "<div>\n",
       "<style scoped>\n",
       "    .dataframe tbody tr th:only-of-type {\n",
       "        vertical-align: middle;\n",
       "    }\n",
       "\n",
       "    .dataframe tbody tr th {\n",
       "        vertical-align: top;\n",
       "    }\n",
       "\n",
       "    .dataframe thead th {\n",
       "        text-align: right;\n",
       "    }\n",
       "</style>\n",
       "<table border=\"1\" class=\"dataframe\">\n",
       "  <thead>\n",
       "    <tr style=\"text-align: right;\">\n",
       "      <th></th>\n",
       "      <th>Created_Date</th>\n",
       "      <th>Closed_Date</th>\n",
       "      <th>Agency</th>\n",
       "      <th>Agency_Name</th>\n",
       "      <th>Complaint_Type</th>\n",
       "      <th>Descriptor</th>\n",
       "      <th>Location_Type</th>\n",
       "      <th>Incident_Zip</th>\n",
       "      <th>Incident_Address</th>\n",
       "      <th>Street_Name</th>\n",
       "      <th>...</th>\n",
       "      <th>Taxi_Pick_Up_Location</th>\n",
       "      <th>Bridge_Highway_Name</th>\n",
       "      <th>Bridge_Highway_Direction</th>\n",
       "      <th>Road_Ramp</th>\n",
       "      <th>Bridge_Highway_Segment</th>\n",
       "      <th>Garage_Lot_Name</th>\n",
       "      <th>Ferry_Terminal_Name</th>\n",
       "      <th>Location</th>\n",
       "      <th>month</th>\n",
       "      <th>year</th>\n",
       "    </tr>\n",
       "    <tr>\n",
       "      <th>Unique_Key</th>\n",
       "      <th></th>\n",
       "      <th></th>\n",
       "      <th></th>\n",
       "      <th></th>\n",
       "      <th></th>\n",
       "      <th></th>\n",
       "      <th></th>\n",
       "      <th></th>\n",
       "      <th></th>\n",
       "      <th></th>\n",
       "      <th></th>\n",
       "      <th></th>\n",
       "      <th></th>\n",
       "      <th></th>\n",
       "      <th></th>\n",
       "      <th></th>\n",
       "      <th></th>\n",
       "      <th></th>\n",
       "      <th></th>\n",
       "      <th></th>\n",
       "      <th></th>\n",
       "    </tr>\n",
       "  </thead>\n",
       "  <tbody>\n",
       "    <tr>\n",
       "      <th>26589651</th>\n",
       "      <td>2013-10-31 02:08:41</td>\n",
       "      <td>NaN</td>\n",
       "      <td>NYPD</td>\n",
       "      <td>New York City Police Department</td>\n",
       "      <td>Noise - Street/Sidewalk</td>\n",
       "      <td>Loud Talking</td>\n",
       "      <td>Street/Sidewalk</td>\n",
       "      <td>11432.0</td>\n",
       "      <td>90-03 169 STREET</td>\n",
       "      <td>169 STREET</td>\n",
       "      <td>...</td>\n",
       "      <td>NaN</td>\n",
       "      <td>NaN</td>\n",
       "      <td>NaN</td>\n",
       "      <td>NaN</td>\n",
       "      <td>NaN</td>\n",
       "      <td>NaN</td>\n",
       "      <td>NaN</td>\n",
       "      <td>(40.70827532593202, -73.79160395779721)</td>\n",
       "      <td>10</td>\n",
       "      <td>2013</td>\n",
       "    </tr>\n",
       "    <tr>\n",
       "      <th>26593698</th>\n",
       "      <td>2013-10-31 02:01:04</td>\n",
       "      <td>NaN</td>\n",
       "      <td>NYPD</td>\n",
       "      <td>New York City Police Department</td>\n",
       "      <td>Illegal Parking</td>\n",
       "      <td>Commercial Overnight Parking</td>\n",
       "      <td>Street/Sidewalk</td>\n",
       "      <td>11378.0</td>\n",
       "      <td>58 AVENUE</td>\n",
       "      <td>58 AVENUE</td>\n",
       "      <td>...</td>\n",
       "      <td>NaN</td>\n",
       "      <td>NaN</td>\n",
       "      <td>NaN</td>\n",
       "      <td>NaN</td>\n",
       "      <td>NaN</td>\n",
       "      <td>NaN</td>\n",
       "      <td>NaN</td>\n",
       "      <td>(40.721040535628305, -73.90945306791765)</td>\n",
       "      <td>10</td>\n",
       "      <td>2013</td>\n",
       "    </tr>\n",
       "    <tr>\n",
       "      <th>26594139</th>\n",
       "      <td>2013-10-31 02:00:24</td>\n",
       "      <td>10/31/2013 02:40:32 AM</td>\n",
       "      <td>NYPD</td>\n",
       "      <td>New York City Police Department</td>\n",
       "      <td>Noise - Commercial</td>\n",
       "      <td>Loud Music/Party</td>\n",
       "      <td>Club/Bar/Restaurant</td>\n",
       "      <td>10032.0</td>\n",
       "      <td>4060 BROADWAY</td>\n",
       "      <td>BROADWAY</td>\n",
       "      <td>...</td>\n",
       "      <td>NaN</td>\n",
       "      <td>NaN</td>\n",
       "      <td>NaN</td>\n",
       "      <td>NaN</td>\n",
       "      <td>NaN</td>\n",
       "      <td>NaN</td>\n",
       "      <td>NaN</td>\n",
       "      <td>(40.84332975466513, -73.93914371913482)</td>\n",
       "      <td>10</td>\n",
       "      <td>2013</td>\n",
       "    </tr>\n",
       "    <tr>\n",
       "      <th>26595721</th>\n",
       "      <td>2013-10-31 01:56:23</td>\n",
       "      <td>10/31/2013 02:21:48 AM</td>\n",
       "      <td>NYPD</td>\n",
       "      <td>New York City Police Department</td>\n",
       "      <td>Noise - Vehicle</td>\n",
       "      <td>Car/Truck Horn</td>\n",
       "      <td>Street/Sidewalk</td>\n",
       "      <td>10023.0</td>\n",
       "      <td>WEST 72 STREET</td>\n",
       "      <td>WEST 72 STREET</td>\n",
       "      <td>...</td>\n",
       "      <td>NaN</td>\n",
       "      <td>NaN</td>\n",
       "      <td>NaN</td>\n",
       "      <td>NaN</td>\n",
       "      <td>NaN</td>\n",
       "      <td>NaN</td>\n",
       "      <td>NaN</td>\n",
       "      <td>(40.7780087446372, -73.98021349023975)</td>\n",
       "      <td>10</td>\n",
       "      <td>2013</td>\n",
       "    </tr>\n",
       "    <tr>\n",
       "      <th>26590930</th>\n",
       "      <td>2013-10-31 01:53:44</td>\n",
       "      <td>NaN</td>\n",
       "      <td>DOHMH</td>\n",
       "      <td>Department of Health and Mental Hygiene</td>\n",
       "      <td>Rodent</td>\n",
       "      <td>Condition Attracting Rodents</td>\n",
       "      <td>Vacant Lot</td>\n",
       "      <td>10027.0</td>\n",
       "      <td>WEST 124 STREET</td>\n",
       "      <td>WEST 124 STREET</td>\n",
       "      <td>...</td>\n",
       "      <td>NaN</td>\n",
       "      <td>NaN</td>\n",
       "      <td>NaN</td>\n",
       "      <td>NaN</td>\n",
       "      <td>NaN</td>\n",
       "      <td>NaN</td>\n",
       "      <td>NaN</td>\n",
       "      <td>(40.80769092704951, -73.94738703491433)</td>\n",
       "      <td>10</td>\n",
       "      <td>2013</td>\n",
       "    </tr>\n",
       "    <tr>\n",
       "      <th>...</th>\n",
       "      <td>...</td>\n",
       "      <td>...</td>\n",
       "      <td>...</td>\n",
       "      <td>...</td>\n",
       "      <td>...</td>\n",
       "      <td>...</td>\n",
       "      <td>...</td>\n",
       "      <td>...</td>\n",
       "      <td>...</td>\n",
       "      <td>...</td>\n",
       "      <td>...</td>\n",
       "      <td>...</td>\n",
       "      <td>...</td>\n",
       "      <td>...</td>\n",
       "      <td>...</td>\n",
       "      <td>...</td>\n",
       "      <td>...</td>\n",
       "      <td>...</td>\n",
       "      <td>...</td>\n",
       "      <td>...</td>\n",
       "      <td>...</td>\n",
       "    </tr>\n",
       "    <tr>\n",
       "      <th>26426013</th>\n",
       "      <td>2013-10-04 00:01:13</td>\n",
       "      <td>10/07/2013 04:07:16 PM</td>\n",
       "      <td>DPR</td>\n",
       "      <td>Department of Parks and Recreation</td>\n",
       "      <td>Maintenance or Facility</td>\n",
       "      <td>Structure - Outdoors</td>\n",
       "      <td>Park</td>\n",
       "      <td>11213.0</td>\n",
       "      <td>NaN</td>\n",
       "      <td>NaN</td>\n",
       "      <td>...</td>\n",
       "      <td>NaN</td>\n",
       "      <td>NaN</td>\n",
       "      <td>NaN</td>\n",
       "      <td>NaN</td>\n",
       "      <td>NaN</td>\n",
       "      <td>NaN</td>\n",
       "      <td>NaN</td>\n",
       "      <td>NaN</td>\n",
       "      <td>10</td>\n",
       "      <td>2013</td>\n",
       "    </tr>\n",
       "    <tr>\n",
       "      <th>26428083</th>\n",
       "      <td>2013-10-04 00:01:05</td>\n",
       "      <td>10/04/2013 02:13:50 AM</td>\n",
       "      <td>NYPD</td>\n",
       "      <td>New York City Police Department</td>\n",
       "      <td>Illegal Parking</td>\n",
       "      <td>Posted Parking Sign Violation</td>\n",
       "      <td>Street/Sidewalk</td>\n",
       "      <td>11434.0</td>\n",
       "      <td>NaN</td>\n",
       "      <td>NaN</td>\n",
       "      <td>...</td>\n",
       "      <td>NaN</td>\n",
       "      <td>NaN</td>\n",
       "      <td>NaN</td>\n",
       "      <td>NaN</td>\n",
       "      <td>NaN</td>\n",
       "      <td>NaN</td>\n",
       "      <td>NaN</td>\n",
       "      <td>(40.656160351546845, -73.76735262738222)</td>\n",
       "      <td>10</td>\n",
       "      <td>2013</td>\n",
       "    </tr>\n",
       "    <tr>\n",
       "      <th>26428987</th>\n",
       "      <td>2013-10-04 00:00:45</td>\n",
       "      <td>10/04/2013 01:25:01 AM</td>\n",
       "      <td>NYPD</td>\n",
       "      <td>New York City Police Department</td>\n",
       "      <td>Noise - Street/Sidewalk</td>\n",
       "      <td>Loud Talking</td>\n",
       "      <td>Street/Sidewalk</td>\n",
       "      <td>10016.0</td>\n",
       "      <td>344 EAST 28 STREET</td>\n",
       "      <td>EAST 28 STREET</td>\n",
       "      <td>...</td>\n",
       "      <td>NaN</td>\n",
       "      <td>NaN</td>\n",
       "      <td>NaN</td>\n",
       "      <td>NaN</td>\n",
       "      <td>NaN</td>\n",
       "      <td>NaN</td>\n",
       "      <td>NaN</td>\n",
       "      <td>(40.740295354643706, -73.97695165980414)</td>\n",
       "      <td>10</td>\n",
       "      <td>2013</td>\n",
       "    </tr>\n",
       "    <tr>\n",
       "      <th>26426115</th>\n",
       "      <td>2013-10-04 00:00:28</td>\n",
       "      <td>10/04/2013 04:17:32 AM</td>\n",
       "      <td>NYPD</td>\n",
       "      <td>New York City Police Department</td>\n",
       "      <td>Noise - Commercial</td>\n",
       "      <td>Loud Talking</td>\n",
       "      <td>Club/Bar/Restaurant</td>\n",
       "      <td>11226.0</td>\n",
       "      <td>1233 FLATBUSH AVENUE</td>\n",
       "      <td>FLATBUSH AVENUE</td>\n",
       "      <td>...</td>\n",
       "      <td>NaN</td>\n",
       "      <td>NaN</td>\n",
       "      <td>NaN</td>\n",
       "      <td>NaN</td>\n",
       "      <td>NaN</td>\n",
       "      <td>NaN</td>\n",
       "      <td>NaN</td>\n",
       "      <td>(40.64018174662485, -73.95530566958138)</td>\n",
       "      <td>10</td>\n",
       "      <td>2013</td>\n",
       "    </tr>\n",
       "    <tr>\n",
       "      <th>26428033</th>\n",
       "      <td>2013-10-04 00:00:10</td>\n",
       "      <td>10/04/2013 01:20:52 AM</td>\n",
       "      <td>NYPD</td>\n",
       "      <td>New York City Police Department</td>\n",
       "      <td>Blocked Driveway</td>\n",
       "      <td>Partial Access</td>\n",
       "      <td>Street/Sidewalk</td>\n",
       "      <td>11236.0</td>\n",
       "      <td>1259 EAST 94 STREET</td>\n",
       "      <td>EAST 94 STREET</td>\n",
       "      <td>...</td>\n",
       "      <td>NaN</td>\n",
       "      <td>NaN</td>\n",
       "      <td>NaN</td>\n",
       "      <td>NaN</td>\n",
       "      <td>NaN</td>\n",
       "      <td>NaN</td>\n",
       "      <td>NaN</td>\n",
       "      <td>(40.640024057399216, -73.90071711703163)</td>\n",
       "      <td>10</td>\n",
       "      <td>2013</td>\n",
       "    </tr>\n",
       "  </tbody>\n",
       "</table>\n",
       "<p>111069 rows × 48 columns</p>\n",
       "</div>"
      ],
      "text/plain": [
       "                   Created_Date             Closed_Date Agency  \\\n",
       "Unique_Key                                                       \n",
       "26589651    2013-10-31 02:08:41                     NaN   NYPD   \n",
       "26593698    2013-10-31 02:01:04                     NaN   NYPD   \n",
       "26594139    2013-10-31 02:00:24  10/31/2013 02:40:32 AM   NYPD   \n",
       "26595721    2013-10-31 01:56:23  10/31/2013 02:21:48 AM   NYPD   \n",
       "26590930    2013-10-31 01:53:44                     NaN  DOHMH   \n",
       "...                         ...                     ...    ...   \n",
       "26426013    2013-10-04 00:01:13  10/07/2013 04:07:16 PM    DPR   \n",
       "26428083    2013-10-04 00:01:05  10/04/2013 02:13:50 AM   NYPD   \n",
       "26428987    2013-10-04 00:00:45  10/04/2013 01:25:01 AM   NYPD   \n",
       "26426115    2013-10-04 00:00:28  10/04/2013 04:17:32 AM   NYPD   \n",
       "26428033    2013-10-04 00:00:10  10/04/2013 01:20:52 AM   NYPD   \n",
       "\n",
       "                                        Agency_Name           Complaint_Type  \\\n",
       "Unique_Key                                                                     \n",
       "26589651            New York City Police Department  Noise - Street/Sidewalk   \n",
       "26593698            New York City Police Department          Illegal Parking   \n",
       "26594139            New York City Police Department       Noise - Commercial   \n",
       "26595721            New York City Police Department          Noise - Vehicle   \n",
       "26590930    Department of Health and Mental Hygiene                   Rodent   \n",
       "...                                             ...                      ...   \n",
       "26426013         Department of Parks and Recreation  Maintenance or Facility   \n",
       "26428083            New York City Police Department          Illegal Parking   \n",
       "26428987            New York City Police Department  Noise - Street/Sidewalk   \n",
       "26426115            New York City Police Department       Noise - Commercial   \n",
       "26428033            New York City Police Department         Blocked Driveway   \n",
       "\n",
       "                               Descriptor        Location_Type Incident_Zip  \\\n",
       "Unique_Key                                                                    \n",
       "26589651                     Loud Talking      Street/Sidewalk      11432.0   \n",
       "26593698     Commercial Overnight Parking      Street/Sidewalk      11378.0   \n",
       "26594139                 Loud Music/Party  Club/Bar/Restaurant      10032.0   \n",
       "26595721                   Car/Truck Horn      Street/Sidewalk      10023.0   \n",
       "26590930     Condition Attracting Rodents           Vacant Lot      10027.0   \n",
       "...                                   ...                  ...          ...   \n",
       "26426013             Structure - Outdoors                 Park      11213.0   \n",
       "26428083    Posted Parking Sign Violation      Street/Sidewalk      11434.0   \n",
       "26428987                     Loud Talking      Street/Sidewalk      10016.0   \n",
       "26426115                     Loud Talking  Club/Bar/Restaurant      11226.0   \n",
       "26428033                   Partial Access      Street/Sidewalk      11236.0   \n",
       "\n",
       "                Incident_Address      Street_Name  ... Taxi_Pick_Up_Location  \\\n",
       "Unique_Key                                         ...                         \n",
       "26589651        90-03 169 STREET       169 STREET  ...                   NaN   \n",
       "26593698               58 AVENUE        58 AVENUE  ...                   NaN   \n",
       "26594139           4060 BROADWAY         BROADWAY  ...                   NaN   \n",
       "26595721          WEST 72 STREET   WEST 72 STREET  ...                   NaN   \n",
       "26590930         WEST 124 STREET  WEST 124 STREET  ...                   NaN   \n",
       "...                          ...              ...  ...                   ...   \n",
       "26426013                     NaN              NaN  ...                   NaN   \n",
       "26428083                     NaN              NaN  ...                   NaN   \n",
       "26428987      344 EAST 28 STREET   EAST 28 STREET  ...                   NaN   \n",
       "26426115    1233 FLATBUSH AVENUE  FLATBUSH AVENUE  ...                   NaN   \n",
       "26428033     1259 EAST 94 STREET   EAST 94 STREET  ...                   NaN   \n",
       "\n",
       "           Bridge_Highway_Name Bridge_Highway_Direction Road_Ramp  \\\n",
       "Unique_Key                                                          \n",
       "26589651                   NaN                      NaN       NaN   \n",
       "26593698                   NaN                      NaN       NaN   \n",
       "26594139                   NaN                      NaN       NaN   \n",
       "26595721                   NaN                      NaN       NaN   \n",
       "26590930                   NaN                      NaN       NaN   \n",
       "...                        ...                      ...       ...   \n",
       "26426013                   NaN                      NaN       NaN   \n",
       "26428083                   NaN                      NaN       NaN   \n",
       "26428987                   NaN                      NaN       NaN   \n",
       "26426115                   NaN                      NaN       NaN   \n",
       "26428033                   NaN                      NaN       NaN   \n",
       "\n",
       "           Bridge_Highway_Segment Garage_Lot_Name Ferry_Terminal_Name  \\\n",
       "Unique_Key                                                              \n",
       "26589651                      NaN             NaN                 NaN   \n",
       "26593698                      NaN             NaN                 NaN   \n",
       "26594139                      NaN             NaN                 NaN   \n",
       "26595721                      NaN             NaN                 NaN   \n",
       "26590930                      NaN             NaN                 NaN   \n",
       "...                           ...             ...                 ...   \n",
       "26426013                      NaN             NaN                 NaN   \n",
       "26428083                      NaN             NaN                 NaN   \n",
       "26428987                      NaN             NaN                 NaN   \n",
       "26426115                      NaN             NaN                 NaN   \n",
       "26428033                      NaN             NaN                 NaN   \n",
       "\n",
       "                                            Location month  year  \n",
       "Unique_Key                                                        \n",
       "26589651     (40.70827532593202, -73.79160395779721)    10  2013  \n",
       "26593698    (40.721040535628305, -73.90945306791765)    10  2013  \n",
       "26594139     (40.84332975466513, -73.93914371913482)    10  2013  \n",
       "26595721      (40.7780087446372, -73.98021349023975)    10  2013  \n",
       "26590930     (40.80769092704951, -73.94738703491433)    10  2013  \n",
       "...                                              ...   ...   ...  \n",
       "26426013                                         NaN    10  2013  \n",
       "26428083    (40.656160351546845, -73.76735262738222)    10  2013  \n",
       "26428987    (40.740295354643706, -73.97695165980414)    10  2013  \n",
       "26426115     (40.64018174662485, -73.95530566958138)    10  2013  \n",
       "26428033    (40.640024057399216, -73.90071711703163)    10  2013  \n",
       "\n",
       "[111069 rows x 48 columns]"
      ]
     },
     "execution_count": 59,
     "metadata": {},
     "output_type": "execute_result"
    }
   ],
   "source": [
    "pd.read_csv('311-service-requests.csv',\n",
    "           index_col=[0])"
   ]
  },
  {
   "cell_type": "code",
   "execution_count": null,
   "id": "7078733c",
   "metadata": {},
   "outputs": [],
   "source": []
  }
 ],
 "metadata": {
  "kernelspec": {
   "display_name": "Python 3 (ipykernel)",
   "language": "python",
   "name": "python3"
  },
  "language_info": {
   "codemirror_mode": {
    "name": "ipython",
    "version": 3
   },
   "file_extension": ".py",
   "mimetype": "text/x-python",
   "name": "python",
   "nbconvert_exporter": "python",
   "pygments_lexer": "ipython3",
   "version": "3.11.4"
  }
 },
 "nbformat": 4,
 "nbformat_minor": 5
}
